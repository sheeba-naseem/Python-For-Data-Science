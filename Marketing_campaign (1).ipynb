{
 "cells": [
  {
   "cell_type": "markdown",
   "metadata": {
    "id": "NzB3bz4Ble2e"
   },
   "source": [
    "# **Data Import**"
   ]
  },
  {
   "cell_type": "code",
   "execution_count": 1,
   "metadata": {
    "id": "L3O4AIVWiuW4"
   },
   "outputs": [],
   "source": [
    "import pandas as pd\n",
    "import matplotlib.pyplot as plt\n",
    "import seaborn as sns\n",
    "import numpy as np\n",
    "from sklearn.preprocessing import OrdinalEncoder, OneHotEncoder\n",
    "import scipy.stats as stats"
   ]
  },
  {
   "cell_type": "code",
   "execution_count": 8,
   "metadata": {
    "id": "sNGqI1Pmkrcf"
   },
   "outputs": [],
   "source": [
    "\n",
    "data = pd.read_csv('/voc/work/marketing_data.csv')"
   ]
  },
  {
   "cell_type": "markdown",
   "metadata": {
    "id": "hgRslWlemAx4"
   },
   "source": [
    "# Data Snapshot"
   ]
  },
  {
   "cell_type": "code",
   "execution_count": 9,
   "metadata": {
    "colab": {
     "base_uri": "https://localhost:8080/",
     "height": 299
    },
    "executionInfo": {
     "elapsed": 7,
     "status": "ok",
     "timestamp": 1673286891361,
     "user": {
      "displayName": "Nimisha Pandey",
      "userId": "15071563106569379314"
     },
     "user_tz": -330
    },
    "id": "_Mc5Cd7yk0WQ",
    "outputId": "1f9197d4-b2f5-4165-c310-8256f090f7b8"
   },
   "outputs": [
    {
     "data": {
      "text/html": [
       "<div>\n",
       "<style scoped>\n",
       "    .dataframe tbody tr th:only-of-type {\n",
       "        vertical-align: middle;\n",
       "    }\n",
       "\n",
       "    .dataframe tbody tr th {\n",
       "        vertical-align: top;\n",
       "    }\n",
       "\n",
       "    .dataframe thead th {\n",
       "        text-align: right;\n",
       "    }\n",
       "</style>\n",
       "<table border=\"1\" class=\"dataframe\">\n",
       "  <thead>\n",
       "    <tr style=\"text-align: right;\">\n",
       "      <th></th>\n",
       "      <th>ID</th>\n",
       "      <th>Year_Birth</th>\n",
       "      <th>Education</th>\n",
       "      <th>Marital_Status</th>\n",
       "      <th>Income</th>\n",
       "      <th>Kidhome</th>\n",
       "      <th>Teenhome</th>\n",
       "      <th>Dt_Customer</th>\n",
       "      <th>Recency</th>\n",
       "      <th>MntWines</th>\n",
       "      <th>...</th>\n",
       "      <th>NumStorePurchases</th>\n",
       "      <th>NumWebVisitsMonth</th>\n",
       "      <th>AcceptedCmp3</th>\n",
       "      <th>AcceptedCmp4</th>\n",
       "      <th>AcceptedCmp5</th>\n",
       "      <th>AcceptedCmp1</th>\n",
       "      <th>AcceptedCmp2</th>\n",
       "      <th>Response</th>\n",
       "      <th>Complain</th>\n",
       "      <th>Country</th>\n",
       "    </tr>\n",
       "  </thead>\n",
       "  <tbody>\n",
       "    <tr>\n",
       "      <th>0</th>\n",
       "      <td>1826</td>\n",
       "      <td>1970</td>\n",
       "      <td>Graduation</td>\n",
       "      <td>Divorced</td>\n",
       "      <td>$84,835.00</td>\n",
       "      <td>0</td>\n",
       "      <td>0</td>\n",
       "      <td>6/16/14</td>\n",
       "      <td>0</td>\n",
       "      <td>189</td>\n",
       "      <td>...</td>\n",
       "      <td>6</td>\n",
       "      <td>1</td>\n",
       "      <td>0</td>\n",
       "      <td>0</td>\n",
       "      <td>0</td>\n",
       "      <td>0</td>\n",
       "      <td>0</td>\n",
       "      <td>1</td>\n",
       "      <td>0</td>\n",
       "      <td>SP</td>\n",
       "    </tr>\n",
       "    <tr>\n",
       "      <th>1</th>\n",
       "      <td>1</td>\n",
       "      <td>1961</td>\n",
       "      <td>Graduation</td>\n",
       "      <td>Single</td>\n",
       "      <td>$57,091.00</td>\n",
       "      <td>0</td>\n",
       "      <td>0</td>\n",
       "      <td>6/15/14</td>\n",
       "      <td>0</td>\n",
       "      <td>464</td>\n",
       "      <td>...</td>\n",
       "      <td>7</td>\n",
       "      <td>5</td>\n",
       "      <td>0</td>\n",
       "      <td>0</td>\n",
       "      <td>0</td>\n",
       "      <td>0</td>\n",
       "      <td>1</td>\n",
       "      <td>1</td>\n",
       "      <td>0</td>\n",
       "      <td>CA</td>\n",
       "    </tr>\n",
       "    <tr>\n",
       "      <th>2</th>\n",
       "      <td>10476</td>\n",
       "      <td>1958</td>\n",
       "      <td>Graduation</td>\n",
       "      <td>Married</td>\n",
       "      <td>$67,267.00</td>\n",
       "      <td>0</td>\n",
       "      <td>1</td>\n",
       "      <td>5/13/14</td>\n",
       "      <td>0</td>\n",
       "      <td>134</td>\n",
       "      <td>...</td>\n",
       "      <td>5</td>\n",
       "      <td>2</td>\n",
       "      <td>0</td>\n",
       "      <td>0</td>\n",
       "      <td>0</td>\n",
       "      <td>0</td>\n",
       "      <td>0</td>\n",
       "      <td>0</td>\n",
       "      <td>0</td>\n",
       "      <td>US</td>\n",
       "    </tr>\n",
       "    <tr>\n",
       "      <th>3</th>\n",
       "      <td>1386</td>\n",
       "      <td>1967</td>\n",
       "      <td>Graduation</td>\n",
       "      <td>Together</td>\n",
       "      <td>$32,474.00</td>\n",
       "      <td>1</td>\n",
       "      <td>1</td>\n",
       "      <td>5/11/14</td>\n",
       "      <td>0</td>\n",
       "      <td>10</td>\n",
       "      <td>...</td>\n",
       "      <td>2</td>\n",
       "      <td>7</td>\n",
       "      <td>0</td>\n",
       "      <td>0</td>\n",
       "      <td>0</td>\n",
       "      <td>0</td>\n",
       "      <td>0</td>\n",
       "      <td>0</td>\n",
       "      <td>0</td>\n",
       "      <td>AUS</td>\n",
       "    </tr>\n",
       "    <tr>\n",
       "      <th>4</th>\n",
       "      <td>5371</td>\n",
       "      <td>1989</td>\n",
       "      <td>Graduation</td>\n",
       "      <td>Single</td>\n",
       "      <td>$21,474.00</td>\n",
       "      <td>1</td>\n",
       "      <td>0</td>\n",
       "      <td>4/8/14</td>\n",
       "      <td>0</td>\n",
       "      <td>6</td>\n",
       "      <td>...</td>\n",
       "      <td>2</td>\n",
       "      <td>7</td>\n",
       "      <td>1</td>\n",
       "      <td>0</td>\n",
       "      <td>0</td>\n",
       "      <td>0</td>\n",
       "      <td>0</td>\n",
       "      <td>1</td>\n",
       "      <td>0</td>\n",
       "      <td>SP</td>\n",
       "    </tr>\n",
       "  </tbody>\n",
       "</table>\n",
       "<p>5 rows × 28 columns</p>\n",
       "</div>"
      ],
      "text/plain": [
       "      ID  Year_Birth   Education Marital_Status      Income   Kidhome  \\\n",
       "0   1826        1970  Graduation       Divorced  $84,835.00         0   \n",
       "1      1        1961  Graduation         Single  $57,091.00         0   \n",
       "2  10476        1958  Graduation        Married  $67,267.00         0   \n",
       "3   1386        1967  Graduation       Together  $32,474.00         1   \n",
       "4   5371        1989  Graduation         Single  $21,474.00         1   \n",
       "\n",
       "   Teenhome Dt_Customer  Recency  MntWines  ...  NumStorePurchases  \\\n",
       "0         0     6/16/14        0       189  ...                  6   \n",
       "1         0     6/15/14        0       464  ...                  7   \n",
       "2         1     5/13/14        0       134  ...                  5   \n",
       "3         1     5/11/14        0        10  ...                  2   \n",
       "4         0      4/8/14        0         6  ...                  2   \n",
       "\n",
       "   NumWebVisitsMonth  AcceptedCmp3  AcceptedCmp4  AcceptedCmp5  AcceptedCmp1  \\\n",
       "0                  1             0             0             0             0   \n",
       "1                  5             0             0             0             0   \n",
       "2                  2             0             0             0             0   \n",
       "3                  7             0             0             0             0   \n",
       "4                  7             1             0             0             0   \n",
       "\n",
       "   AcceptedCmp2  Response  Complain  Country  \n",
       "0             0         1         0       SP  \n",
       "1             1         1         0       CA  \n",
       "2             0         0         0       US  \n",
       "3             0         0         0      AUS  \n",
       "4             0         1         0       SP  \n",
       "\n",
       "[5 rows x 28 columns]"
      ]
     },
     "execution_count": 9,
     "metadata": {},
     "output_type": "execute_result"
    }
   ],
   "source": [
    "data.head()"
   ]
  },
  {
   "cell_type": "code",
   "execution_count": 10,
   "metadata": {
    "colab": {
     "base_uri": "https://localhost:8080/"
    },
    "executionInfo": {
     "elapsed": 5,
     "status": "ok",
     "timestamp": 1673286891361,
     "user": {
      "displayName": "Nimisha Pandey",
      "userId": "15071563106569379314"
     },
     "user_tz": -330
    },
    "id": "537H2bL7mEx1",
    "outputId": "fe1f4a2e-35e2-49bd-942f-ecb6f3fc5ea2"
   },
   "outputs": [
    {
     "name": "stdout",
     "output_type": "stream",
     "text": [
      "<class 'pandas.core.frame.DataFrame'>\n",
      "RangeIndex: 2240 entries, 0 to 2239\n",
      "Data columns (total 28 columns):\n",
      " #   Column               Non-Null Count  Dtype \n",
      "---  ------               --------------  ----- \n",
      " 0   ID                   2240 non-null   int64 \n",
      " 1   Year_Birth           2240 non-null   int64 \n",
      " 2   Education            2240 non-null   object\n",
      " 3   Marital_Status       2240 non-null   object\n",
      " 4    Income              2216 non-null   object\n",
      " 5   Kidhome              2240 non-null   int64 \n",
      " 6   Teenhome             2240 non-null   int64 \n",
      " 7   Dt_Customer          2240 non-null   object\n",
      " 8   Recency              2240 non-null   int64 \n",
      " 9   MntWines             2240 non-null   int64 \n",
      " 10  MntFruits            2240 non-null   int64 \n",
      " 11  MntMeatProducts      2240 non-null   int64 \n",
      " 12  MntFishProducts      2240 non-null   int64 \n",
      " 13  MntSweetProducts     2240 non-null   int64 \n",
      " 14  MntGoldProds         2240 non-null   int64 \n",
      " 15  NumDealsPurchases    2240 non-null   int64 \n",
      " 16  NumWebPurchases      2240 non-null   int64 \n",
      " 17  NumCatalogPurchases  2240 non-null   int64 \n",
      " 18  NumStorePurchases    2240 non-null   int64 \n",
      " 19  NumWebVisitsMonth    2240 non-null   int64 \n",
      " 20  AcceptedCmp3         2240 non-null   int64 \n",
      " 21  AcceptedCmp4         2240 non-null   int64 \n",
      " 22  AcceptedCmp5         2240 non-null   int64 \n",
      " 23  AcceptedCmp1         2240 non-null   int64 \n",
      " 24  AcceptedCmp2         2240 non-null   int64 \n",
      " 25  Response             2240 non-null   int64 \n",
      " 26  Complain             2240 non-null   int64 \n",
      " 27  Country              2240 non-null   object\n",
      "dtypes: int64(23), object(5)\n",
      "memory usage: 490.1+ KB\n"
     ]
    }
   ],
   "source": [
    "data.info()"
   ]
  },
  {
   "cell_type": "code",
   "execution_count": 11,
   "metadata": {
    "id": "3ZPM3dtmmFvk"
   },
   "outputs": [],
   "source": [
    "data.columns = data.columns.str.replace(' ', '').str.lower()"
   ]
  },
  {
   "cell_type": "markdown",
   "metadata": {
    "id": "-pzdBst6gNuK"
   },
   "source": [
    "# Once data is imported, investigate variables like Dt_Customer and Income etc and check if they are imported in the right way. "
   ]
  },
  {
   "cell_type": "code",
   "execution_count": 12,
   "metadata": {
    "colab": {
     "base_uri": "https://localhost:8080/"
    },
    "executionInfo": {
     "elapsed": 3,
     "status": "ok",
     "timestamp": 1673286892320,
     "user": {
      "displayName": "Nimisha Pandey",
      "userId": "15071563106569379314"
     },
     "user_tz": -330
    },
    "id": "eF0HephIgUTa",
    "outputId": "6f1c3eca-8602-4d7d-a3a3-f8192e033d21"
   },
   "outputs": [
    {
     "name": "stderr",
     "output_type": "stream",
     "text": [
      "/tmp/ipykernel_126/1354050048.py:1: FutureWarning: The default value of regex will change from True to False in a future version.\n",
      "  data.income = data.income.str.replace('[$,]', '').astype('float')\n"
     ]
    }
   ],
   "source": [
    "data.income = data.income.str.replace('[$,]', '').astype('float')"
   ]
  },
  {
   "cell_type": "code",
   "execution_count": 13,
   "metadata": {
    "id": "Md2Be_GYgaW5"
   },
   "outputs": [],
   "source": [
    "data.dt_customer = pd.to_datetime(data.dt_customer)"
   ]
  },
  {
   "cell_type": "markdown",
   "metadata": {
    "id": "6Z6E7Hvegdf4"
   },
   "source": [
    "### Income values for a few customers are missing. Perform missing value imputation. Assume that the customers with similar education and marital status make the same yearly income, on average. You may have to clean the data before performing this. For data cleaning, look into the categories of education and marital-status.\n",
    "\n"
   ]
  },
  {
   "cell_type": "code",
   "execution_count": 14,
   "metadata": {
    "colab": {
     "base_uri": "https://localhost:8080/"
    },
    "executionInfo": {
     "elapsed": 3,
     "status": "ok",
     "timestamp": 1673286893475,
     "user": {
      "displayName": "Nimisha Pandey",
      "userId": "15071563106569379314"
     },
     "user_tz": -330
    },
    "id": "BtcLhQengdNH",
    "outputId": "8a175dda-a7ee-4cad-8172-5b3240ab7e20"
   },
   "outputs": [
    {
     "data": {
      "text/plain": [
       "id                      0\n",
       "year_birth              0\n",
       "education               0\n",
       "marital_status          0\n",
       "income                 24\n",
       "kidhome                 0\n",
       "teenhome                0\n",
       "dt_customer             0\n",
       "recency                 0\n",
       "mntwines                0\n",
       "mntfruits               0\n",
       "mntmeatproducts         0\n",
       "mntfishproducts         0\n",
       "mntsweetproducts        0\n",
       "mntgoldprods            0\n",
       "numdealspurchases       0\n",
       "numwebpurchases         0\n",
       "numcatalogpurchases     0\n",
       "numstorepurchases       0\n",
       "numwebvisitsmonth       0\n",
       "acceptedcmp3            0\n",
       "acceptedcmp4            0\n",
       "acceptedcmp5            0\n",
       "acceptedcmp1            0\n",
       "acceptedcmp2            0\n",
       "response                0\n",
       "complain                0\n",
       "country                 0\n",
       "dtype: int64"
      ]
     },
     "execution_count": 14,
     "metadata": {},
     "output_type": "execute_result"
    }
   ],
   "source": [
    "data.isnull().sum()"
   ]
  },
  {
   "cell_type": "markdown",
   "metadata": {
    "id": "nHQjwzgIha5E"
   },
   "source": [
    "Check categories in Marital status and education"
   ]
  },
  {
   "cell_type": "code",
   "execution_count": 15,
   "metadata": {
    "colab": {
     "base_uri": "https://localhost:8080/"
    },
    "executionInfo": {
     "elapsed": 401,
     "status": "ok",
     "timestamp": 1673286896850,
     "user": {
      "displayName": "Nimisha Pandey",
      "userId": "15071563106569379314"
     },
     "user_tz": -330
    },
    "id": "qo1RH37YheUl",
    "outputId": "eeb18acc-62e8-4f93-8b75-fb21ad912547"
   },
   "outputs": [
    {
     "data": {
      "text/plain": [
       "array(['Divorced', 'Single', 'Married', 'Together', 'Widow', 'YOLO',\n",
       "       'Alone', 'Absurd'], dtype=object)"
      ]
     },
     "execution_count": 15,
     "metadata": {},
     "output_type": "execute_result"
    }
   ],
   "source": [
    "data.marital_status.unique()"
   ]
  },
  {
   "cell_type": "markdown",
   "metadata": {
    "id": "KlQzCcZxhixz"
   },
   "source": [
    "Multiple Classes in marital status might have similar interpretation such as :\n",
    "- Divorced Single Widow AloneAbsurd and YOLO have same meaning as Alone\n",
    "- Together and Married mean Couple \n",
    "\n",
    "So changing the categories accordingly "
   ]
  },
  {
   "cell_type": "code",
   "execution_count": 16,
   "metadata": {
    "id": "Xpoa109UhiW0"
   },
   "outputs": [],
   "source": [
    "def change(x):\n",
    "  if x in ['Married', 'Together']:\n",
    "    return 'couple'\n",
    "  else :\n",
    "    return 'alone'\n",
    "data.marital_status = data.marital_status.apply(change) "
   ]
  },
  {
   "cell_type": "code",
   "execution_count": 17,
   "metadata": {
    "colab": {
     "base_uri": "https://localhost:8080/",
     "height": 237
    },
    "executionInfo": {
     "elapsed": 5,
     "status": "ok",
     "timestamp": 1673286898598,
     "user": {
      "displayName": "Nimisha Pandey",
      "userId": "15071563106569379314"
     },
     "user_tz": -330
    },
    "id": "_L7-US5PgsWu",
    "outputId": "e3cad309-eb8f-40a7-a73d-313fcb76540d"
   },
   "outputs": [
    {
     "data": {
      "text/html": [
       "<div>\n",
       "<style scoped>\n",
       "    .dataframe tbody tr th:only-of-type {\n",
       "        vertical-align: middle;\n",
       "    }\n",
       "\n",
       "    .dataframe tbody tr th {\n",
       "        vertical-align: top;\n",
       "    }\n",
       "\n",
       "    .dataframe thead th {\n",
       "        text-align: right;\n",
       "    }\n",
       "</style>\n",
       "<table border=\"1\" class=\"dataframe\">\n",
       "  <thead>\n",
       "    <tr style=\"text-align: right;\">\n",
       "      <th>marital_status</th>\n",
       "      <th>alone</th>\n",
       "      <th>couple</th>\n",
       "    </tr>\n",
       "    <tr>\n",
       "      <th>education</th>\n",
       "      <th></th>\n",
       "      <th></th>\n",
       "    </tr>\n",
       "  </thead>\n",
       "  <tbody>\n",
       "    <tr>\n",
       "      <th>2n Cycle</th>\n",
       "      <td>51957.984375</td>\n",
       "      <td>45597.992647</td>\n",
       "    </tr>\n",
       "    <tr>\n",
       "      <th>Basic</th>\n",
       "      <td>17998.350000</td>\n",
       "      <td>21663.852941</td>\n",
       "    </tr>\n",
       "    <tr>\n",
       "      <th>Graduation</th>\n",
       "      <td>52615.569652</td>\n",
       "      <td>52779.380952</td>\n",
       "    </tr>\n",
       "    <tr>\n",
       "      <th>Master</th>\n",
       "      <td>53170.472000</td>\n",
       "      <td>52785.795833</td>\n",
       "    </tr>\n",
       "    <tr>\n",
       "      <th>PhD</th>\n",
       "      <td>54050.657143</td>\n",
       "      <td>57343.238562</td>\n",
       "    </tr>\n",
       "  </tbody>\n",
       "</table>\n",
       "</div>"
      ],
      "text/plain": [
       "marital_status         alone        couple\n",
       "education                                 \n",
       "2n Cycle        51957.984375  45597.992647\n",
       "Basic           17998.350000  21663.852941\n",
       "Graduation      52615.569652  52779.380952\n",
       "Master          53170.472000  52785.795833\n",
       "PhD             54050.657143  57343.238562"
      ]
     },
     "execution_count": 17,
     "metadata": {},
     "output_type": "execute_result"
    }
   ],
   "source": [
    "agg_data = data.groupby(['education', 'marital_status'])[['income']].mean().unstack()['income']\n",
    "agg_data"
   ]
  },
  {
   "cell_type": "code",
   "execution_count": 18,
   "metadata": {
    "id": "0-vwsrCwhQqJ"
   },
   "outputs": [],
   "source": [
    "for edu in data.education.unique():\n",
    "  for status in data.marital_status.unique():\n",
    "    val = agg_data.loc[edu, status]\n",
    "    data.loc[(data.education == edu) & (data.marital_status == status) & (data.income.isnull()),'income'] = val"
   ]
  },
  {
   "cell_type": "markdown",
   "metadata": {
    "id": "LW9qfoTIjD0o"
   },
   "source": [
    "# Create variables to populate total number of children, age, total spend. From the number of purchases through the 3 channels, we can derive total purchases."
   ]
  },
  {
   "cell_type": "code",
   "execution_count": 19,
   "metadata": {
    "id": "lA9GIE_UjELJ"
   },
   "outputs": [],
   "source": [
    "data['age'] = 2022 - data.year_birth\n",
    "data['spending'] = data.loc[:,data.columns.str.startswith('mnt')].sum(axis = 1)\n",
    "data['children_count'] = data.kidhome + data.teenhome\n",
    "data['has_children'] = np.where((data.kidhome + data.teenhome) > 0, 1,0)\n",
    "data['total_purchases'] = data.loc[:, data.columns.str.endswith('purchases')].sum(axis = 1)\n",
    "data['education_years'] = data.education.replace({'Basic':5,'2n Cycle':8,'Graduation':12,'Master':18,'PhD':21})"
   ]
  },
  {
   "cell_type": "markdown",
   "metadata": {
    "id": "ktpv2qFGipOY"
   },
   "source": [
    "# Create box-plots and histograms to understand the distributions and outliers. Perform outlier treatment."
   ]
  },
  {
   "cell_type": "code",
   "execution_count": 20,
   "metadata": {
    "colab": {
     "base_uri": "https://localhost:8080/"
    },
    "executionInfo": {
     "elapsed": 3,
     "status": "ok",
     "timestamp": 1673286901719,
     "user": {
      "displayName": "Nimisha Pandey",
      "userId": "15071563106569379314"
     },
     "user_tz": -330
    },
    "id": "fEafEfDvkTIB",
    "outputId": "ce9cac41-7939-45bc-d94b-9467a51f1e3b"
   },
   "outputs": [
    {
     "data": {
      "text/plain": [
       "Index(['id', 'year_birth', 'education', 'marital_status', 'income', 'kidhome',\n",
       "       'teenhome', 'dt_customer', 'recency', 'mntwines', 'mntfruits',\n",
       "       'mntmeatproducts', 'mntfishproducts', 'mntsweetproducts',\n",
       "       'mntgoldprods', 'numdealspurchases', 'numwebpurchases',\n",
       "       'numcatalogpurchases', 'numstorepurchases', 'numwebvisitsmonth',\n",
       "       'acceptedcmp3', 'acceptedcmp4', 'acceptedcmp5', 'acceptedcmp1',\n",
       "       'acceptedcmp2', 'response', 'complain', 'country', 'age', 'spending',\n",
       "       'children_count', 'has_children', 'total_purchases', 'education_years'],\n",
       "      dtype='object')"
      ]
     },
     "execution_count": 20,
     "metadata": {},
     "output_type": "execute_result"
    }
   ],
   "source": [
    "data.columns"
   ]
  },
  {
   "cell_type": "code",
   "execution_count": 21,
   "metadata": {
    "id": "ZdaLSx0vil5Z"
   },
   "outputs": [],
   "source": [
    "num_vars = ['income', 'spending', 'age', 'total_purchases']"
   ]
  },
  {
   "cell_type": "code",
   "execution_count": 22,
   "metadata": {
    "colab": {
     "base_uri": "https://localhost:8080/",
     "height": 335
    },
    "executionInfo": {
     "elapsed": 598,
     "status": "ok",
     "timestamp": 1673286903400,
     "user": {
      "displayName": "Nimisha Pandey",
      "userId": "15071563106569379314"
     },
     "user_tz": -330
    },
    "id": "Bhn7fkg-i0mw",
    "outputId": "7b2ea90c-99bd-4854-b13a-b1a30b2f7cd3"
   },
   "outputs": [
    {
     "data": {
      "image/png": "[encoded data removed]",
      "text/plain": [
       "<Figure size 1440x360 with 4 Axes>"
      ]
     },
     "metadata": {
      "needs_background": "light"
     },
     "output_type": "display_data"
    }
   ],
   "source": [
    "f,ax = plt.subplots(1, len(num_vars), figsize = (20,5))\n",
    "i = 0\n",
    "for v in num_vars:\n",
    "  sns.boxplot(x = data[v], ax = ax[i])\n",
    "  i += 1 \n",
    "plt.show()"
   ]
  },
  {
   "cell_type": "code",
   "execution_count": 23,
   "metadata": {
    "colab": {
     "base_uri": "https://localhost:8080/",
     "height": 335
    },
    "executionInfo": {
     "elapsed": 1736,
     "status": "ok",
     "timestamp": 1673286905763,
     "user": {
      "displayName": "Nimisha Pandey",
      "userId": "15071563106569379314"
     },
     "user_tz": -330
    },
    "id": "dWNs1s-Ck3DZ",
    "outputId": "a6e6f9f4-50b0-42f3-fe51-745d902da10f"
   },
   "outputs": [
    {
     "data": {
      "image/png": "[encoded data removed]",
      "text/plain": [
       "<Figure size 1440x360 with 4 Axes>"
      ]
     },
     "metadata": {
      "needs_background": "light"
     },
     "output_type": "display_data"
    }
   ],
   "source": [
    "f,ax = plt.subplots(1, len(num_vars), figsize = (20,5))\n",
    "i = 0\n",
    "for v in num_vars:\n",
    "  sns.histplot(x = data[v], ax = ax[i])\n",
    "  i += 1 \n",
    "plt.show()"
   ]
  },
  {
   "cell_type": "markdown",
   "metadata": {
    "id": "5PUe9Pr9llVc"
   },
   "source": [
    "- Spending is highly right skewed\n",
    "- Income has extreme outliers\n"
   ]
  },
  {
   "cell_type": "code",
   "execution_count": 24,
   "metadata": {
    "id": "UX0Tca2Ol6jO"
   },
   "outputs": [],
   "source": [
    "def outlier_detection(x):\n",
    "  q1 = x.quantile(0.25)\n",
    "  q3 = x.quantile(0.75)\n",
    "  iqr = q3 - q1\n",
    "  ll = q1 - (1.5 * iqr)\n",
    "  ul = q3 + (1.5 * iqr)\n",
    "  return ll, ul"
   ]
  },
  {
   "cell_type": "markdown",
   "metadata": {
    "id": "z8663zaoqAEX"
   },
   "source": [
    "# Cap the outliers to upper and lower limits"
   ]
  },
  {
   "cell_type": "code",
   "execution_count": 25,
   "metadata": {
    "colab": {
     "base_uri": "https://localhost:8080/"
    },
    "executionInfo": {
     "elapsed": 5,
     "status": "ok",
     "timestamp": 1673286909533,
     "user": {
      "displayName": "Nimisha Pandey",
      "userId": "15071563106569379314"
     },
     "user_tz": -330
    },
    "id": "87qDVofWk-EH",
    "outputId": "530a5a38-cf18-4dbd-8ddd-842f301c830c"
   },
   "outputs": [
    {
     "name": "stdout",
     "output_type": "stream",
     "text": [
      "Var =  income\n",
      "ll = -13587.75 ul = 117416.25\n",
      "Var =  spending\n",
      "ll = -1396.375 ul = 2510.625\n",
      "Var =  age\n",
      "ll = 18.0 ul = 90.0\n",
      "Var =  total_purchases\n",
      "ll = -11.5 ul = 40.5\n"
     ]
    }
   ],
   "source": [
    "for v in num_vars:\n",
    "  print(\"Var = \", v)\n",
    "  ll,ul = outlier_detection(data[v])\n",
    "  print('ll = {} ul = {}'.format(ll,ul))\n",
    "  data.loc[data[v]<ll, v] = ll\n",
    "  data.loc[data[v]>ul, v] = ul"
   ]
  },
  {
   "cell_type": "code",
   "execution_count": 26,
   "metadata": {
    "colab": {
     "base_uri": "https://localhost:8080/",
     "height": 335
    },
    "executionInfo": {
     "elapsed": 766,
     "status": "ok",
     "timestamp": 1673286933853,
     "user": {
      "displayName": "Nimisha Pandey",
      "userId": "15071563106569379314"
     },
     "user_tz": -330
    },
    "id": "pJk177SYptoC",
    "outputId": "0c96d15a-c251-44a3-ee96-ef89b659a377"
   },
   "outputs": [
    {
     "data": {
      "image/png": "[encoded data removed]",
      "text/plain": [
       "<Figure size 1440x360 with 4 Axes>"
      ]
     },
     "metadata": {
      "needs_background": "light"
     },
     "output_type": "display_data"
    }
   ],
   "source": [
    "f,ax = plt.subplots(1, len(num_vars), figsize = (20,5))\n",
    "i = 0\n",
    "for v in num_vars:\n",
    "  sns.boxplot(x = data[v], ax = ax[i])\n",
    "  i += 1 \n",
    "plt.show()"
   ]
  },
  {
   "cell_type": "markdown",
   "metadata": {
    "id": "wWh-rirjrLmU"
   },
   "source": [
    "# Use ordinal encoding and one hot encoding according to different types of categorical variables."
   ]
  },
  {
   "cell_type": "code",
   "execution_count": 27,
   "metadata": {
    "colab": {
     "base_uri": "https://localhost:8080/",
     "height": 424
    },
    "executionInfo": {
     "elapsed": 581,
     "status": "ok",
     "timestamp": 1673287152661,
     "user": {
      "displayName": "Nimisha Pandey",
      "userId": "15071563106569379314"
     },
     "user_tz": -330
    },
    "id": "JWuy6BUqr3KA",
    "outputId": "1897d6a4-b42f-49f4-d4c2-4750f4841f29"
   },
   "outputs": [
    {
     "data": {
      "text/html": [
       "<div>\n",
       "<style scoped>\n",
       "    .dataframe tbody tr th:only-of-type {\n",
       "        vertical-align: middle;\n",
       "    }\n",
       "\n",
       "    .dataframe tbody tr th {\n",
       "        vertical-align: top;\n",
       "    }\n",
       "\n",
       "    .dataframe thead th {\n",
       "        text-align: right;\n",
       "    }\n",
       "</style>\n",
       "<table border=\"1\" class=\"dataframe\">\n",
       "  <thead>\n",
       "    <tr style=\"text-align: right;\">\n",
       "      <th></th>\n",
       "      <th>education</th>\n",
       "      <th>marital_status</th>\n",
       "      <th>country</th>\n",
       "    </tr>\n",
       "  </thead>\n",
       "  <tbody>\n",
       "    <tr>\n",
       "      <th>0</th>\n",
       "      <td>Graduation</td>\n",
       "      <td>alone</td>\n",
       "      <td>SP</td>\n",
       "    </tr>\n",
       "    <tr>\n",
       "      <th>1</th>\n",
       "      <td>Graduation</td>\n",
       "      <td>alone</td>\n",
       "      <td>CA</td>\n",
       "    </tr>\n",
       "    <tr>\n",
       "      <th>2</th>\n",
       "      <td>Graduation</td>\n",
       "      <td>couple</td>\n",
       "      <td>US</td>\n",
       "    </tr>\n",
       "    <tr>\n",
       "      <th>3</th>\n",
       "      <td>Graduation</td>\n",
       "      <td>couple</td>\n",
       "      <td>AUS</td>\n",
       "    </tr>\n",
       "    <tr>\n",
       "      <th>4</th>\n",
       "      <td>Graduation</td>\n",
       "      <td>alone</td>\n",
       "      <td>SP</td>\n",
       "    </tr>\n",
       "    <tr>\n",
       "      <th>...</th>\n",
       "      <td>...</td>\n",
       "      <td>...</td>\n",
       "      <td>...</td>\n",
       "    </tr>\n",
       "    <tr>\n",
       "      <th>2235</th>\n",
       "      <td>PhD</td>\n",
       "      <td>alone</td>\n",
       "      <td>US</td>\n",
       "    </tr>\n",
       "    <tr>\n",
       "      <th>2236</th>\n",
       "      <td>2n Cycle</td>\n",
       "      <td>couple</td>\n",
       "      <td>SP</td>\n",
       "    </tr>\n",
       "    <tr>\n",
       "      <th>2237</th>\n",
       "      <td>Graduation</td>\n",
       "      <td>alone</td>\n",
       "      <td>SP</td>\n",
       "    </tr>\n",
       "    <tr>\n",
       "      <th>2238</th>\n",
       "      <td>Graduation</td>\n",
       "      <td>couple</td>\n",
       "      <td>IND</td>\n",
       "    </tr>\n",
       "    <tr>\n",
       "      <th>2239</th>\n",
       "      <td>PhD</td>\n",
       "      <td>couple</td>\n",
       "      <td>CA</td>\n",
       "    </tr>\n",
       "  </tbody>\n",
       "</table>\n",
       "<p>2240 rows × 3 columns</p>\n",
       "</div>"
      ],
      "text/plain": [
       "       education marital_status country\n",
       "0     Graduation          alone      SP\n",
       "1     Graduation          alone      CA\n",
       "2     Graduation         couple      US\n",
       "3     Graduation         couple     AUS\n",
       "4     Graduation          alone      SP\n",
       "...          ...            ...     ...\n",
       "2235         PhD          alone      US\n",
       "2236    2n Cycle         couple      SP\n",
       "2237  Graduation          alone      SP\n",
       "2238  Graduation         couple     IND\n",
       "2239         PhD         couple      CA\n",
       "\n",
       "[2240 rows x 3 columns]"
      ]
     },
     "execution_count": 27,
     "metadata": {},
     "output_type": "execute_result"
    }
   ],
   "source": [
    "data.select_dtypes('object')"
   ]
  },
  {
   "cell_type": "markdown",
   "metadata": {
    "id": "L367AMCPrUom"
   },
   "source": [
    "## For eductaion we use ordinal encoder"
   ]
  },
  {
   "cell_type": "code",
   "execution_count": 28,
   "metadata": {
    "colab": {
     "base_uri": "https://localhost:8080/"
    },
    "executionInfo": {
     "elapsed": 3,
     "status": "ok",
     "timestamp": 1673287075011,
     "user": {
      "displayName": "Nimisha Pandey",
      "userId": "15071563106569379314"
     },
     "user_tz": -330
    },
    "id": "-APkiyFOrhmZ",
    "outputId": "1835878b-ac59-4da9-daad-2aea9f50b280"
   },
   "outputs": [
    {
     "data": {
      "text/plain": [
       "array(['Graduation', 'PhD', '2n Cycle', 'Master', 'Basic'], dtype=object)"
      ]
     },
     "execution_count": 28,
     "metadata": {},
     "output_type": "execute_result"
    }
   ],
   "source": [
    "data.education.unique()"
   ]
  },
  {
   "cell_type": "code",
   "execution_count": 29,
   "metadata": {
    "id": "ejYedjQtrFgQ"
   },
   "outputs": [],
   "source": [
    "ord = OrdinalEncoder(categories = [['Basic','2n Cycle','Graduation', 'Master','PhD']])\n",
    "ord.fit(data[['education']])\n",
    "data['education_encode'] = ord.transform(data[['education']]).flatten()"
   ]
  },
  {
   "cell_type": "markdown",
   "metadata": {
    "id": "Y2D_jAPWryr0"
   },
   "source": [
    "## For country and marital status use one hot encoding "
   ]
  },
  {
   "cell_type": "code",
   "execution_count": 30,
   "metadata": {
    "id": "m47ndGhFrUJY"
   },
   "outputs": [],
   "source": [
    "ohe = OneHotEncoder()"
   ]
  },
  {
   "cell_type": "code",
   "execution_count": 31,
   "metadata": {
    "colab": {
     "base_uri": "https://localhost:8080/",
     "height": 424
    },
    "executionInfo": {
     "elapsed": 4,
     "status": "ok",
     "timestamp": 1673287603471,
     "user": {
      "displayName": "Nimisha Pandey",
      "userId": "15071563106569379314"
     },
     "user_tz": -330
    },
    "id": "VsXg54pJsFoa",
    "outputId": "c5d09db1-95e1-4f2c-c436-ddf303641fed"
   },
   "outputs": [
    {
     "data": {
      "text/html": [
       "<div>\n",
       "<style scoped>\n",
       "    .dataframe tbody tr th:only-of-type {\n",
       "        vertical-align: middle;\n",
       "    }\n",
       "\n",
       "    .dataframe tbody tr th {\n",
       "        vertical-align: top;\n",
       "    }\n",
       "\n",
       "    .dataframe thead th {\n",
       "        text-align: right;\n",
       "    }\n",
       "</style>\n",
       "<table border=\"1\" class=\"dataframe\">\n",
       "  <thead>\n",
       "    <tr style=\"text-align: right;\">\n",
       "      <th></th>\n",
       "      <th>AUS</th>\n",
       "      <th>CA</th>\n",
       "      <th>GER</th>\n",
       "      <th>IND</th>\n",
       "      <th>ME</th>\n",
       "      <th>SA</th>\n",
       "      <th>SP</th>\n",
       "      <th>US</th>\n",
       "    </tr>\n",
       "  </thead>\n",
       "  <tbody>\n",
       "    <tr>\n",
       "      <th>0</th>\n",
       "      <td>0</td>\n",
       "      <td>0</td>\n",
       "      <td>0</td>\n",
       "      <td>0</td>\n",
       "      <td>0</td>\n",
       "      <td>0</td>\n",
       "      <td>1</td>\n",
       "      <td>0</td>\n",
       "    </tr>\n",
       "    <tr>\n",
       "      <th>1</th>\n",
       "      <td>0</td>\n",
       "      <td>1</td>\n",
       "      <td>0</td>\n",
       "      <td>0</td>\n",
       "      <td>0</td>\n",
       "      <td>0</td>\n",
       "      <td>0</td>\n",
       "      <td>0</td>\n",
       "    </tr>\n",
       "    <tr>\n",
       "      <th>2</th>\n",
       "      <td>0</td>\n",
       "      <td>0</td>\n",
       "      <td>0</td>\n",
       "      <td>0</td>\n",
       "      <td>0</td>\n",
       "      <td>0</td>\n",
       "      <td>0</td>\n",
       "      <td>1</td>\n",
       "    </tr>\n",
       "    <tr>\n",
       "      <th>3</th>\n",
       "      <td>1</td>\n",
       "      <td>0</td>\n",
       "      <td>0</td>\n",
       "      <td>0</td>\n",
       "      <td>0</td>\n",
       "      <td>0</td>\n",
       "      <td>0</td>\n",
       "      <td>0</td>\n",
       "    </tr>\n",
       "    <tr>\n",
       "      <th>4</th>\n",
       "      <td>0</td>\n",
       "      <td>0</td>\n",
       "      <td>0</td>\n",
       "      <td>0</td>\n",
       "      <td>0</td>\n",
       "      <td>0</td>\n",
       "      <td>1</td>\n",
       "      <td>0</td>\n",
       "    </tr>\n",
       "    <tr>\n",
       "      <th>...</th>\n",
       "      <td>...</td>\n",
       "      <td>...</td>\n",
       "      <td>...</td>\n",
       "      <td>...</td>\n",
       "      <td>...</td>\n",
       "      <td>...</td>\n",
       "      <td>...</td>\n",
       "      <td>...</td>\n",
       "    </tr>\n",
       "    <tr>\n",
       "      <th>2235</th>\n",
       "      <td>0</td>\n",
       "      <td>0</td>\n",
       "      <td>0</td>\n",
       "      <td>0</td>\n",
       "      <td>0</td>\n",
       "      <td>0</td>\n",
       "      <td>0</td>\n",
       "      <td>1</td>\n",
       "    </tr>\n",
       "    <tr>\n",
       "      <th>2236</th>\n",
       "      <td>0</td>\n",
       "      <td>0</td>\n",
       "      <td>0</td>\n",
       "      <td>0</td>\n",
       "      <td>0</td>\n",
       "      <td>0</td>\n",
       "      <td>1</td>\n",
       "      <td>0</td>\n",
       "    </tr>\n",
       "    <tr>\n",
       "      <th>2237</th>\n",
       "      <td>0</td>\n",
       "      <td>0</td>\n",
       "      <td>0</td>\n",
       "      <td>0</td>\n",
       "      <td>0</td>\n",
       "      <td>0</td>\n",
       "      <td>1</td>\n",
       "      <td>0</td>\n",
       "    </tr>\n",
       "    <tr>\n",
       "      <th>2238</th>\n",
       "      <td>0</td>\n",
       "      <td>0</td>\n",
       "      <td>0</td>\n",
       "      <td>1</td>\n",
       "      <td>0</td>\n",
       "      <td>0</td>\n",
       "      <td>0</td>\n",
       "      <td>0</td>\n",
       "    </tr>\n",
       "    <tr>\n",
       "      <th>2239</th>\n",
       "      <td>0</td>\n",
       "      <td>1</td>\n",
       "      <td>0</td>\n",
       "      <td>0</td>\n",
       "      <td>0</td>\n",
       "      <td>0</td>\n",
       "      <td>0</td>\n",
       "      <td>0</td>\n",
       "    </tr>\n",
       "  </tbody>\n",
       "</table>\n",
       "<p>2240 rows × 8 columns</p>\n",
       "</div>"
      ],
      "text/plain": [
       "      AUS  CA  GER  IND  ME  SA  SP  US\n",
       "0       0   0    0    0   0   0   1   0\n",
       "1       0   1    0    0   0   0   0   0\n",
       "2       0   0    0    0   0   0   0   1\n",
       "3       1   0    0    0   0   0   0   0\n",
       "4       0   0    0    0   0   0   1   0\n",
       "...   ...  ..  ...  ...  ..  ..  ..  ..\n",
       "2235    0   0    0    0   0   0   0   1\n",
       "2236    0   0    0    0   0   0   1   0\n",
       "2237    0   0    0    0   0   0   1   0\n",
       "2238    0   0    0    1   0   0   0   0\n",
       "2239    0   1    0    0   0   0   0   0\n",
       "\n",
       "[2240 rows x 8 columns]"
      ]
     },
     "execution_count": 31,
     "metadata": {},
     "output_type": "execute_result"
    }
   ],
   "source": [
    "country_encode = pd.DataFrame(ohe.fit_transform(data[['country']]).toarray().astype(int), \n",
    "             columns = ohe.categories_[0])\n",
    "country_encode"
   ]
  },
  {
   "cell_type": "code",
   "execution_count": 32,
   "metadata": {
    "colab": {
     "base_uri": "https://localhost:8080/",
     "height": 424
    },
    "executionInfo": {
     "elapsed": 5,
     "status": "ok",
     "timestamp": 1673287604036,
     "user": {
      "displayName": "Nimisha Pandey",
      "userId": "15071563106569379314"
     },
     "user_tz": -330
    },
    "id": "JMYhTElzsJri",
    "outputId": "5c231c4c-1eed-4815-eaed-8e516ff9e357"
   },
   "outputs": [
    {
     "data": {
      "text/html": [
       "<div>\n",
       "<style scoped>\n",
       "    .dataframe tbody tr th:only-of-type {\n",
       "        vertical-align: middle;\n",
       "    }\n",
       "\n",
       "    .dataframe tbody tr th {\n",
       "        vertical-align: top;\n",
       "    }\n",
       "\n",
       "    .dataframe thead th {\n",
       "        text-align: right;\n",
       "    }\n",
       "</style>\n",
       "<table border=\"1\" class=\"dataframe\">\n",
       "  <thead>\n",
       "    <tr style=\"text-align: right;\">\n",
       "      <th></th>\n",
       "      <th>alone</th>\n",
       "      <th>couple</th>\n",
       "    </tr>\n",
       "  </thead>\n",
       "  <tbody>\n",
       "    <tr>\n",
       "      <th>0</th>\n",
       "      <td>1</td>\n",
       "      <td>0</td>\n",
       "    </tr>\n",
       "    <tr>\n",
       "      <th>1</th>\n",
       "      <td>1</td>\n",
       "      <td>0</td>\n",
       "    </tr>\n",
       "    <tr>\n",
       "      <th>2</th>\n",
       "      <td>0</td>\n",
       "      <td>1</td>\n",
       "    </tr>\n",
       "    <tr>\n",
       "      <th>3</th>\n",
       "      <td>0</td>\n",
       "      <td>1</td>\n",
       "    </tr>\n",
       "    <tr>\n",
       "      <th>4</th>\n",
       "      <td>1</td>\n",
       "      <td>0</td>\n",
       "    </tr>\n",
       "    <tr>\n",
       "      <th>...</th>\n",
       "      <td>...</td>\n",
       "      <td>...</td>\n",
       "    </tr>\n",
       "    <tr>\n",
       "      <th>2235</th>\n",
       "      <td>1</td>\n",
       "      <td>0</td>\n",
       "    </tr>\n",
       "    <tr>\n",
       "      <th>2236</th>\n",
       "      <td>0</td>\n",
       "      <td>1</td>\n",
       "    </tr>\n",
       "    <tr>\n",
       "      <th>2237</th>\n",
       "      <td>1</td>\n",
       "      <td>0</td>\n",
       "    </tr>\n",
       "    <tr>\n",
       "      <th>2238</th>\n",
       "      <td>0</td>\n",
       "      <td>1</td>\n",
       "    </tr>\n",
       "    <tr>\n",
       "      <th>2239</th>\n",
       "      <td>0</td>\n",
       "      <td>1</td>\n",
       "    </tr>\n",
       "  </tbody>\n",
       "</table>\n",
       "<p>2240 rows × 2 columns</p>\n",
       "</div>"
      ],
      "text/plain": [
       "      alone  couple\n",
       "0         1       0\n",
       "1         1       0\n",
       "2         0       1\n",
       "3         0       1\n",
       "4         1       0\n",
       "...     ...     ...\n",
       "2235      1       0\n",
       "2236      0       1\n",
       "2237      1       0\n",
       "2238      0       1\n",
       "2239      0       1\n",
       "\n",
       "[2240 rows x 2 columns]"
      ]
     },
     "execution_count": 32,
     "metadata": {},
     "output_type": "execute_result"
    }
   ],
   "source": [
    "marital_status_encode = pd.DataFrame(ohe.fit_transform(data[['marital_status']]).toarray().astype(int), \n",
    "             columns = ohe.categories_[0])\n",
    "marital_status_encode"
   ]
  },
  {
   "cell_type": "markdown",
   "metadata": {
    "id": "ddfr22Pcsft2"
   },
   "source": [
    "# concat these new df to old one"
   ]
  },
  {
   "cell_type": "code",
   "execution_count": 33,
   "metadata": {
    "id": "6mZAYqC-sWW7"
   },
   "outputs": [],
   "source": [
    "new_data = pd.concat([data, country_encode,marital_status_encode ], axis = 1)"
   ]
  },
  {
   "cell_type": "markdown",
   "metadata": {
    "id": "7FVkTjzqsv3r"
   },
   "source": [
    "# **OR**"
   ]
  },
  {
   "cell_type": "code",
   "execution_count": 34,
   "metadata": {
    "id": "7yvbRE0Ps0ST"
   },
   "outputs": [],
   "source": [
    "new_data = pd.concat([data,pd.get_dummies(data[['country', 'marital_status']])], axis = 1)"
   ]
  },
  {
   "cell_type": "code",
   "execution_count": 35,
   "metadata": {
    "colab": {
     "base_uri": "https://localhost:8080/"
    },
    "executionInfo": {
     "elapsed": 390,
     "status": "ok",
     "timestamp": 1673287677196,
     "user": {
      "displayName": "Nimisha Pandey",
      "userId": "15071563106569379314"
     },
     "user_tz": -330
    },
    "id": "Rq_ahN4ttqM2",
    "outputId": "3915ecc9-b438-489f-be55-a4f1084abe6a"
   },
   "outputs": [
    {
     "name": "stdout",
     "output_type": "stream",
     "text": [
      "<class 'pandas.core.frame.DataFrame'>\n",
      "RangeIndex: 2240 entries, 0 to 2239\n",
      "Data columns (total 45 columns):\n",
      " #   Column                 Non-Null Count  Dtype         \n",
      "---  ------                 --------------  -----         \n",
      " 0   id                     2240 non-null   int64         \n",
      " 1   year_birth             2240 non-null   int64         \n",
      " 2   education              2240 non-null   object        \n",
      " 3   marital_status         2240 non-null   object        \n",
      " 4   income                 2240 non-null   float64       \n",
      " 5   kidhome                2240 non-null   int64         \n",
      " 6   teenhome               2240 non-null   int64         \n",
      " 7   dt_customer            2240 non-null   datetime64[ns]\n",
      " 8   recency                2240 non-null   int64         \n",
      " 9   mntwines               2240 non-null   int64         \n",
      " 10  mntfruits              2240 non-null   int64         \n",
      " 11  mntmeatproducts        2240 non-null   int64         \n",
      " 12  mntfishproducts        2240 non-null   int64         \n",
      " 13  mntsweetproducts       2240 non-null   int64         \n",
      " 14  mntgoldprods           2240 non-null   int64         \n",
      " 15  numdealspurchases      2240 non-null   int64         \n",
      " 16  numwebpurchases        2240 non-null   int64         \n",
      " 17  numcatalogpurchases    2240 non-null   int64         \n",
      " 18  numstorepurchases      2240 non-null   int64         \n",
      " 19  numwebvisitsmonth      2240 non-null   int64         \n",
      " 20  acceptedcmp3           2240 non-null   int64         \n",
      " 21  acceptedcmp4           2240 non-null   int64         \n",
      " 22  acceptedcmp5           2240 non-null   int64         \n",
      " 23  acceptedcmp1           2240 non-null   int64         \n",
      " 24  acceptedcmp2           2240 non-null   int64         \n",
      " 25  response               2240 non-null   int64         \n",
      " 26  complain               2240 non-null   int64         \n",
      " 27  country                2240 non-null   object        \n",
      " 28  age                    2240 non-null   int64         \n",
      " 29  spending               2240 non-null   float64       \n",
      " 30  children_count         2240 non-null   int64         \n",
      " 31  has_children           2240 non-null   int64         \n",
      " 32  total_purchases        2240 non-null   float64       \n",
      " 33  education_years        2240 non-null   int64         \n",
      " 34  education_encode       2240 non-null   float64       \n",
      " 35  country_AUS            2240 non-null   uint8         \n",
      " 36  country_CA             2240 non-null   uint8         \n",
      " 37  country_GER            2240 non-null   uint8         \n",
      " 38  country_IND            2240 non-null   uint8         \n",
      " 39  country_ME             2240 non-null   uint8         \n",
      " 40  country_SA             2240 non-null   uint8         \n",
      " 41  country_SP             2240 non-null   uint8         \n",
      " 42  country_US             2240 non-null   uint8         \n",
      " 43  marital_status_alone   2240 non-null   uint8         \n",
      " 44  marital_status_couple  2240 non-null   uint8         \n",
      "dtypes: datetime64[ns](1), float64(4), int64(27), object(3), uint8(10)\n",
      "memory usage: 634.5+ KB\n"
     ]
    }
   ],
   "source": [
    "new_data.info()"
   ]
  },
  {
   "cell_type": "markdown",
   "metadata": {
    "id": "ysK4BOkpt5vF"
   },
   "source": [
    "## Create a heatmap to showcase correlation between different pairs of variables.\n",
    "\n",
    "for correlation lets consider few columns only \n",
    "\n"
   ]
  },
  {
   "cell_type": "code",
   "execution_count": 36,
   "metadata": {
    "colab": {
     "base_uri": "https://localhost:8080/"
    },
    "executionInfo": {
     "elapsed": 352,
     "status": "ok",
     "timestamp": 1673287816443,
     "user": {
      "displayName": "Nimisha Pandey",
      "userId": "15071563106569379314"
     },
     "user_tz": -330
    },
    "id": "vVNj9AyrubkL",
    "outputId": "c751780c-d50a-4b1a-f931-08555ccb3194"
   },
   "outputs": [
    {
     "data": {
      "text/plain": [
       "Index(['id', 'year_birth', 'education', 'marital_status', 'income', 'kidhome',\n",
       "       'teenhome', 'dt_customer', 'recency', 'mntwines', 'mntfruits',\n",
       "       'mntmeatproducts', 'mntfishproducts', 'mntsweetproducts',\n",
       "       'mntgoldprods', 'numdealspurchases', 'numwebpurchases',\n",
       "       'numcatalogpurchases', 'numstorepurchases', 'numwebvisitsmonth',\n",
       "       'acceptedcmp3', 'acceptedcmp4', 'acceptedcmp5', 'acceptedcmp1',\n",
       "       'acceptedcmp2', 'response', 'complain', 'country', 'age', 'spending',\n",
       "       'children_count', 'has_children', 'total_purchases', 'education_years',\n",
       "       'education_encode', 'country_AUS', 'country_CA', 'country_GER',\n",
       "       'country_IND', 'country_ME', 'country_SA', 'country_SP', 'country_US',\n",
       "       'marital_status_alone', 'marital_status_couple'],\n",
       "      dtype='object')"
      ]
     },
     "execution_count": 36,
     "metadata": {},
     "output_type": "execute_result"
    }
   ],
   "source": [
    "new_data.columns"
   ]
  },
  {
   "cell_type": "code",
   "execution_count": 38,
   "metadata": {
    "id": "2oqXJJVZsoIV"
   },
   "outputs": [],
   "source": [
    "var_cor = ['income', 'age', 'children_count', 'recency', 'mntwines', 'mntfruits',\n",
    "       'mntmeatproducts', 'mntfishproducts', 'mntsweetproducts',\n",
    "       'mntgoldprods', 'numdealspurchases', 'numwebpurchases',\n",
    "       'numcatalogpurchases', 'numstorepurchases', 'numwebvisitsmonth','spending', 'total_purchases'\n",
    "       ]"
   ]
  },
  {
   "cell_type": "code",
   "execution_count": 39,
   "metadata": {
    "id": "opbWowkeuDj_"
   },
   "outputs": [],
   "source": [
    "cor_data = new_data[var_cor].corr()"
   ]
  },
  {
   "cell_type": "code",
   "execution_count": 40,
   "metadata": {
    "colab": {
     "base_uri": "https://localhost:8080/",
     "height": 587
    },
    "executionInfo": {
     "elapsed": 2458,
     "status": "ok",
     "timestamp": 1673288084161,
     "user": {
      "displayName": "Nimisha Pandey",
      "userId": "15071563106569379314"
     },
     "user_tz": -330
    },
    "id": "WBf5JyVNus90",
    "outputId": "57d74f96-47b0-4e51-bdc9-21f04a4e46c4"
   },
   "outputs": [
    {
     "data": {
      "image/png": "[encoded data removed]",
      "text/plain": [
       "<Figure size 1440x576 with 2 Axes>"
      ]
     },
     "metadata": {
      "needs_background": "light"
     },
     "output_type": "display_data"
    }
   ],
   "source": [
    "plt.figure(figsize = (20,8))\n",
    "m = np.ones_like(cor_data)\n",
    "m[np.tril_indices_from(m)]= 0\n",
    "sns.heatmap(cor_data, mask = m, annot = True, cmap = 'Reds_r')\n",
    "plt.show()"
   ]
  },
  {
   "cell_type": "markdown",
   "metadata": {
    "id": "HUpD44LavlzN"
   },
   "source": [
    "# **Test the following hypotheses:**\n",
    "\n",
    "### older people are not as tech savvy and probably prefer shopping in store\n",
    "#### H0 : for old customers [no. purchases store <= no. of purchases online]\n",
    "#### Ha : for old customers [no. purchases store > no. of purchases online]"
   ]
  },
  {
   "cell_type": "code",
   "execution_count": 41,
   "metadata": {
    "colab": {
     "base_uri": "https://localhost:8080/"
    },
    "executionInfo": {
     "elapsed": 374,
     "status": "ok",
     "timestamp": 1673288276879,
     "user": {
      "displayName": "Nimisha Pandey",
      "userId": "15071563106569379314"
     },
     "user_tz": -330
    },
    "id": "XKUytQyLuy7P",
    "outputId": "c88e36b5-9187-4a4b-d91d-4a84134e1c34"
   },
   "outputs": [
    {
     "data": {
      "text/plain": [
       "Ttest_indResult(statistic=11.961244836671222, pvalue=9.218680632402673e-32)"
      ]
     },
     "execution_count": 41,
     "metadata": {},
     "output_type": "execute_result"
    }
   ],
   "source": [
    "store = new_data.loc[new_data.age >= 60, 'numstorepurchases']\n",
    "web = new_data.loc[new_data.age >= 60, 'numwebpurchases']\n",
    "stats.ttest_ind(store,web, alternative='greater' )"
   ]
  },
  {
   "cell_type": "markdown",
   "metadata": {
    "id": "LhXnklBbwPSv"
   },
   "source": [
    "## Since p value is much less than alpha of 5% we shall reject the null hypothesis and conclude that older customers prefer store purchases."
   ]
  },
  {
   "cell_type": "markdown",
   "metadata": {
    "id": "NEX6ieBXvufD"
   },
   "source": [
    "### customers with kids probably have less time to visit a store and would prefer to shop online\n",
    "#### H0 : for customer who have children - no. purchases online <= no. of purchaes in store\n",
    "#### Ha : for customer who have children - no. purchases online > no. of purchaes in store\n",
    "\n"
   ]
  },
  {
   "cell_type": "code",
   "execution_count": 42,
   "metadata": {
    "colab": {
     "base_uri": "https://localhost:8080/"
    },
    "executionInfo": {
     "elapsed": 403,
     "status": "ok",
     "timestamp": 1673288420626,
     "user": {
      "displayName": "Nimisha Pandey",
      "userId": "15071563106569379314"
     },
     "user_tz": -330
    },
    "id": "mqWn-Xcyvwlm",
    "outputId": "00bd1b37-d048-42ba-a201-7b4e47ee859b"
   },
   "outputs": [
    {
     "data": {
      "text/plain": [
       "Ttest_indResult(statistic=-11.85534380488127, pvalue=1.0)"
      ]
     },
     "execution_count": 42,
     "metadata": {},
     "output_type": "execute_result"
    }
   ],
   "source": [
    "online = new_data.loc[new_data.has_children == 1,'numwebpurchases']\n",
    "store_p = new_data.loc[new_data.has_children == 1,'numstorepurchases']\n",
    "stats.ttest_ind(online, store_p, alternative = \"greater\")"
   ]
  },
  {
   "cell_type": "markdown",
   "metadata": {
    "id": "nG_WtuTiwxTy"
   },
   "source": [
    "## Since p value = 1 and much greater than alpha of 5% we fail to reject the null hypothesis and conclude that people who have children  prefer store purchases over online purchases"
   ]
  },
  {
   "cell_type": "markdown",
   "metadata": {
    "id": "PuvOxohNvw8l"
   },
   "source": [
    "### other distribution channels may cannibalize sales at the store\n",
    "#### H0 : purchases other channels <= no. of store purchases\n",
    "#### Ha : purchases other channels > no. of store purchases\n"
   ]
  },
  {
   "cell_type": "code",
   "execution_count": 43,
   "metadata": {
    "colab": {
     "base_uri": "https://localhost:8080/"
    },
    "executionInfo": {
     "elapsed": 343,
     "status": "ok",
     "timestamp": 1673288591858,
     "user": {
      "displayName": "Nimisha Pandey",
      "userId": "15071563106569379314"
     },
     "user_tz": -330
    },
    "id": "gut7_u2gvzsq",
    "outputId": "7c28e3c7-f7cd-46f0-9d9a-98fcfa397cd6"
   },
   "outputs": [
    {
     "data": {
      "text/plain": [
       "Ttest_indResult(statistic=7.884334964023309, pvalue=1.971324447658957e-15)"
      ]
     },
     "execution_count": 43,
     "metadata": {},
     "output_type": "execute_result"
    }
   ],
   "source": [
    "other = new_data.loc[:,['numwebpurchases', 'numcatalogpurchases']].sum(axis = 1)\n",
    "store = new_data.loc[:, 'numstorepurchases']\n",
    "stats.ttest_ind(other, store, alternative =\"greater\")\n"
   ]
  },
  {
   "cell_type": "markdown",
   "metadata": {
    "id": "Z7hsZZRtxcVO"
   },
   "source": [
    "## Since p value is much less than alpha of 5% we shall reject the null hypothesis and conclude that other distribution channels like web purchases or catalogue purchases are prefered over store purchases"
   ]
  },
  {
   "cell_type": "markdown",
   "metadata": {
    "id": "8Fd7jc5Evz81"
   },
   "source": [
    "### Does the US fare significantly better than the rest of the world in terms of total purchases\n",
    "#### H0 : total_purchases_us <= total_purchases_row\n",
    "#### Ha : total_purchases_us  > total_purchases_row"
   ]
  },
  {
   "cell_type": "code",
   "execution_count": 44,
   "metadata": {
    "colab": {
     "base_uri": "https://localhost:8080/"
    },
    "executionInfo": {
     "elapsed": 360,
     "status": "ok",
     "timestamp": 1673288997328,
     "user": {
      "displayName": "Nimisha Pandey",
      "userId": "15071563106569379314"
     },
     "user_tz": -330
    },
    "id": "nf9nShObv5z5",
    "outputId": "64ae9273-7aa1-4459-9b44-ef4fb1d7f1f4"
   },
   "outputs": [
    {
     "data": {
      "text/plain": [
       "Ttest_indResult(statistic=1.7339544907234352, pvalue=0.04153193317039351)"
      ]
     },
     "execution_count": 44,
     "metadata": {},
     "output_type": "execute_result"
    }
   ],
   "source": [
    "total_purchases_us = new_data.loc[new_data.country == \"US\",'total_purchases']\n",
    "total_purchases_row = new_data.loc[new_data.country != \"US\",'total_purchases']\n",
    "stats.ttest_ind(total_purchases_us ,total_purchases_row, alternative = 'greater')"
   ]
  },
  {
   "cell_type": "markdown",
   "metadata": {
    "id": "O4THc9_7ymmP"
   },
   "source": [
    "# At 5% we reject that is we can say US does better in terms of number of purchases against the rest of the world.\n"
   ]
  },
  {
   "cell_type": "markdown",
   "metadata": {
    "id": "qGAuOqXvzCZ2"
   },
   "source": [
    "# Use appropriate visualization to help analyse the following:\n",
    "\n",
    "* which products are performing the best and which are performing the least in \n",
    "terms of revenue"
   ]
  },
  {
   "cell_type": "code",
   "execution_count": 45,
   "metadata": {
    "colab": {
     "base_uri": "https://localhost:8080/",
     "height": 443
    },
    "executionInfo": {
     "elapsed": 607,
     "status": "ok",
     "timestamp": 1673289962404,
     "user": {
      "displayName": "Nimisha Pandey",
      "userId": "15071563106569379314"
     },
     "user_tz": -330
    },
    "id": "J1chGS5Y1vEu",
    "outputId": "85ba2661-454c-4d1f-a937-b08465c357a8"
   },
   "outputs": [
    {
     "data": {
      "image/png": "[encoded data removed]",
      "text/plain": [
       "<Figure size 1440x432 with 1 Axes>"
      ]
     },
     "metadata": {
      "needs_background": "light"
     },
     "output_type": "display_data"
    }
   ],
   "source": [
    "prod_data = new_data.loc[:,new_data.columns.str.startswith('mnt')].mean().round(2).sort_values(ascending = False)\n",
    "plt.figure(figsize = (20,6))\n",
    "sns.barplot(x = prod_data.index, y = prod_data.values, order=prod_data.index)\n",
    "for i in range(prod_data.size):\n",
    "  plt.annotate(prod_data[i], xy = (i-0.15, prod_data[i]+2), size =15 , weight = 'heavy')\n",
    "plt.ylim(0, 350)\n",
    "plt.xlabel( 'Products', size = 20, color = 'green')\n",
    "plt.ylabel( 'Average Amount', size = 18, color = 'green')\n",
    "plt.title('Comparitive Product Performance', size = 35, pad = 15, color = 'green')\n",
    "plt.xticks(size = 14)\n",
    "plt.show()"
   ]
  },
  {
   "cell_type": "markdown",
   "metadata": {
    "id": "EauXBtd-zGD-"
   },
   "source": [
    "* Is there any pattern between the age of customers and the last campaign acceptance rate\n"
   ]
  },
  {
   "cell_type": "markdown",
   "metadata": {
    "id": "qAco5WKSA-ju"
   },
   "source": [
    "create groups for age using histogram cut."
   ]
  },
  {
   "cell_type": "code",
   "execution_count": 46,
   "metadata": {
    "id": "ukYLBzWVBWDb"
   },
   "outputs": [],
   "source": [
    "data['age_grp'] = pd.cut(data.age, bins = 5, labels = [1,2,3,4,5])"
   ]
  },
  {
   "cell_type": "code",
   "execution_count": 47,
   "metadata": {
    "colab": {
     "base_uri": "https://localhost:8080/",
     "height": 237
    },
    "executionInfo": {
     "elapsed": 8,
     "status": "ok",
     "timestamp": 1674584801675,
     "user": {
      "displayName": "Nimisha Pandey",
      "userId": "15071563106569379314"
     },
     "user_tz": -330
    },
    "id": "zX6_H3gyBkn7",
    "outputId": "5e75c08b-378f-4477-ce13-ab80f302335f"
   },
   "outputs": [],
   "source": [
    "grpd_age = data.groupby('age_grp')['age'].agg(['min','max'])\n",
    "grpd_age['group'] = grpd_age['min'].astype(str) + ' - ' +grpd_age['max'].astype(str)"
   ]
  },
  {
   "cell_type": "markdown",
   "metadata": {
    "id": "VV2gluXNEZob"
   },
   "source": [
    "Rebaming labels "
   ]
  },
  {
   "cell_type": "code",
   "execution_count": 48,
   "metadata": {
    "id": "kAp5JMpGCHwd"
   },
   "outputs": [],
   "source": [
    "data.age_grp = data.age_grp.replace([1,2,3,4,5], grpd_age.group)"
   ]
  },
  {
   "cell_type": "code",
   "execution_count": 49,
   "metadata": {
    "colab": {
     "base_uri": "https://localhost:8080/",
     "height": 320
    },
    "executionInfo": {
     "elapsed": 669,
     "status": "ok",
     "timestamp": 1674585341879,
     "user": {
      "displayName": "Nimisha Pandey",
      "userId": "15071563106569379314"
     },
     "user_tz": -330
    },
    "id": "SYT5HCAfDdtN",
    "outputId": "43a16ebe-22d1-4990-886e-859786d10fcd"
   },
   "outputs": [
    {
     "data": {
      "image/png": "[encoded data removed]",
      "text/plain": [
       "<Figure size 1080x360 with 1 Axes>"
      ]
     },
     "metadata": {
      "needs_background": "light"
     },
     "output_type": "display_data"
    }
   ],
   "source": [
    "vc = data[data.acceptedcmp5 == 1].age_grp.value_counts().sort_index()\n",
    "plt.figure(figsize = (15,5))\n",
    "vc.plot.bar(color = ['red', 'green', 'blue', 'brown', 'pink'])\n",
    "plt.xticks(rotation = 0)\n",
    "plt.show()"
   ]
  },
  {
   "cell_type": "markdown",
   "metadata": {
    "id": "vR_3WDrjEdpb"
   },
   "source": [
    "age group 39 to 51 mostly accepted last campaIGN. however 78 - 90 is an agegroup which accepted the least ones\n"
   ]
  },
  {
   "cell_type": "markdown",
   "metadata": {
    "id": "g7Zhig6szHxa"
   },
   "source": [
    "* which Country has the most number of customers who accepted the last campaign\n",
    "\n"
   ]
  },
  {
   "cell_type": "code",
   "execution_count": 50,
   "metadata": {
    "colab": {
     "base_uri": "https://localhost:8080/",
     "height": 438
    },
    "executionInfo": {
     "elapsed": 1338,
     "status": "ok",
     "timestamp": 1673289978467,
     "user": {
      "displayName": "Nimisha Pandey",
      "userId": "15071563106569379314"
     },
     "user_tz": -330
    },
    "id": "56yOEFcrzJqb",
    "outputId": "73ab6ef2-da61-45d6-adbc-5cf47bf0c33f"
   },
   "outputs": [
    {
     "data": {
      "image/png": "[encoded data removed]",
      "text/plain": [
       "<Figure size 1440x432 with 1 Axes>"
      ]
     },
     "metadata": {
      "needs_background": "light"
     },
     "output_type": "display_data"
    }
   ],
   "source": [
    "accptd_data = new_data.groupby('country')[['acceptedcmp5']].agg('sum').squeeze().sort_values(ascending = False)\n",
    "plt.figure(figsize = (20,6))\n",
    "sns.barplot(x = accptd_data.index, y = accptd_data.values, order=accptd_data.index)\n",
    "for i in range(accptd_data.size):\n",
    "  plt.annotate(accptd_data[i], xy = (i-0.05, accptd_data[i]+2), size =15 , weight = 'heavy')\n",
    "plt.ylim(0,100)\n",
    "plt.xlabel( 'Country', size = 20, color = 'green')\n",
    "plt.ylabel( 'Customer accptng last cmpgn', size = 18, color = 'green')\n",
    "plt.title('Country vs Last Campaign performance', size = 35, pad = 10, color = 'green')\n",
    "plt.xticks(size = 14)\n",
    "plt.show()"
   ]
  },
  {
   "cell_type": "markdown",
   "metadata": {
    "id": "UyLJhUsezKDc"
   },
   "source": [
    "* do you see any pattern in the no of children at home and total spend\n"
   ]
  },
  {
   "cell_type": "code",
   "execution_count": 51,
   "metadata": {
    "colab": {
     "base_uri": "https://localhost:8080/",
     "height": 386
    },
    "executionInfo": {
     "elapsed": 420,
     "status": "ok",
     "timestamp": 1673290049237,
     "user": {
      "displayName": "Nimisha Pandey",
      "userId": "15071563106569379314"
     },
     "user_tz": -330
    },
    "id": "vh9J4kjZzOBX",
    "outputId": "1fb054f6-28a5-47ce-cff9-568e4dce1891"
   },
   "outputs": [
    {
     "data": {
      "text/plain": [
       "<seaborn.axisgrid.FacetGrid at 0x7f2e7f466ad0>"
      ]
     },
     "execution_count": 51,
     "metadata": {},
     "output_type": "execute_result"
    },
    {
     "data": {
      "image/png": "[encoded data removed]",
      "text/plain": [
       "<Figure size 360x360 with 1 Axes>"
      ]
     },
     "metadata": {
      "needs_background": "light"
     },
     "output_type": "display_data"
    }
   ],
   "source": [
    "sns.catplot(x = 'children_count', y = 'spending',data = new_data, kind = \"strip\")"
   ]
  },
  {
   "cell_type": "code",
   "execution_count": 52,
   "metadata": {
    "colab": {
     "base_uri": "https://localhost:8080/",
     "height": 386
    },
    "executionInfo": {
     "elapsed": 1682,
     "status": "ok",
     "timestamp": 1673290079042,
     "user": {
      "displayName": "Nimisha Pandey",
      "userId": "15071563106569379314"
     },
     "user_tz": -330
    },
    "id": "r_749klB3Aua",
    "outputId": "3dd0e263-cc81-458d-c29f-abb7d858e4ac"
   },
   "outputs": [
    {
     "data": {
      "text/plain": [
       "<seaborn.axisgrid.FacetGrid at 0x7f2e7f74ac20>"
      ]
     },
     "execution_count": 52,
     "metadata": {},
     "output_type": "execute_result"
    },
    {
     "data": {
      "image/png": "[encoded data removed]",
      "text/plain": [
       "<Figure size 360x360 with 1 Axes>"
      ]
     },
     "metadata": {
      "needs_background": "light"
     },
     "output_type": "display_data"
    }
   ],
   "source": [
    "sns.catplot(x = 'children_count', y = 'total_purchases',data = new_data, kind = \"strip\")"
   ]
  },
  {
   "cell_type": "markdown",
   "metadata": {
    "id": "Uk9OfvaXzOSb"
   },
   "source": [
    "* Education background of the customers who complained in the last 2 years"
   ]
  },
  {
   "cell_type": "code",
   "execution_count": 53,
   "metadata": {
    "colab": {
     "base_uri": "https://localhost:8080/",
     "height": 431
    },
    "executionInfo": {
     "elapsed": 1062,
     "status": "ok",
     "timestamp": 1673290637641,
     "user": {
      "displayName": "Nimisha Pandey",
      "userId": "15071563106569379314"
     },
     "user_tz": -330
    },
    "id": "hXNuFZrEzRJz",
    "outputId": "4fe69765-5670-4930-bf82-e3bebb386193"
   },
   "outputs": [
    {
     "data": {
      "image/png": "[encoded data removed]",
      "text/plain": [
       "<Figure size 1440x432 with 1 Axes>"
      ]
     },
     "metadata": {
      "needs_background": "light"
     },
     "output_type": "display_data"
    }
   ],
   "source": [
    "vc = new_data.loc[new_data.complain == 1, 'education'].value_counts()\n",
    "plt.figure(figsize = (20,6))\n",
    "sns.barplot(x = vc.index, y = vc.values, order=vc.index)\n",
    "for i in range(vc.size):\n",
    "  plt.annotate(vc[i], xy = (i-0.05, vc[i]+0.5), size =15 , weight = 'heavy')\n",
    "plt.ylim(0, 20)\n",
    "plt.xlabel( 'Education Background', size = 20, color = 'green')\n",
    "plt.ylabel( '# of Customers', size = 18, color = 'green')\n",
    "plt.title('Education background of the customers who complained in the last 2 years', size = 20, pad = 15, color = 'green')\n",
    "plt.xticks(size = 14)\n",
    "plt.show()"
   ]
  },
  {
   "cell_type": "markdown",
   "metadata": {
    "id": "2JnIs8dJ5Sj9"
   },
   "source": [
    "# income vs spending."
   ]
  },
  {
   "cell_type": "code",
   "execution_count": 54,
   "metadata": {
    "colab": {
     "base_uri": "https://localhost:8080/",
     "height": 296
    },
    "executionInfo": {
     "elapsed": 914,
     "status": "ok",
     "timestamp": 1673290693787,
     "user": {
      "displayName": "Nimisha Pandey",
      "userId": "15071563106569379314"
     },
     "user_tz": -330
    },
    "id": "J9Ubg58v4dOi",
    "outputId": "af1b3661-62a4-46ec-8397-d3e450a5994d"
   },
   "outputs": [
    {
     "data": {
      "text/plain": [
       "<AxesSubplot: xlabel='income', ylabel='spending'>"
      ]
     },
     "execution_count": 54,
     "metadata": {},
     "output_type": "execute_result"
    },
    {
     "data": {
      "image/png": "[encoded data removed]",
      "text/plain": [
       "<Figure size 432x288 with 1 Axes>"
      ]
     },
     "metadata": {
      "needs_background": "light"
     },
     "output_type": "display_data"
    }
   ],
   "source": [
    "sns.scatterplot(x = 'income', y = 'spending', data = new_data)"
   ]
  },
  {
   "cell_type": "code",
   "execution_count": 55,
   "metadata": {
    "colab": {
     "base_uri": "https://localhost:8080/",
     "height": 279
    },
    "executionInfo": {
     "elapsed": 584,
     "status": "ok",
     "timestamp": 1673290850914,
     "user": {
      "displayName": "Nimisha Pandey",
      "userId": "15071563106569379314"
     },
     "user_tz": -330
    },
    "id": "tngo92F35Zg_",
    "outputId": "377ad42a-067d-48c9-92f3-b5412b44690c"
   },
   "outputs": [
    {
     "data": {
      "image/png": "[encoded data removed]",
      "text/plain": [
       "<Figure size 432x288 with 1 Axes>"
      ]
     },
     "metadata": {
      "needs_background": "light"
     },
     "output_type": "display_data"
    }
   ],
   "source": [
    "sns.scatterplot(x = 'income', y = 'total_purchases', data = new_data)\n",
    "plt.show()"
   ]
  },
  {
   "cell_type": "code",
   "execution_count": 56,
   "metadata": {
    "colab": {
     "base_uri": "https://localhost:8080/",
     "height": 424
    },
    "executionInfo": {
     "elapsed": 922,
     "status": "ok",
     "timestamp": 1673290857814,
     "user": {
      "displayName": "Nimisha Pandey",
      "userId": "15071563106569379314"
     },
     "user_tz": -330
    },
    "id": "CJPQqM9y5fxo",
    "outputId": "087104ad-ea76-465e-dff1-d40e2964bbcd"
   },
   "outputs": [
    {
     "name": "stderr",
     "output_type": "stream",
     "text": [
      "/usr/local/lib/python3.10/site-packages/seaborn/categorical.py:3025: UserWarning: catplot is a figure-level function and does not accept target axes. You may wish to try stripplot\n",
      "  warnings.warn(msg, UserWarning)\n"
     ]
    },
    {
     "data": {
      "image/png": "[encoded data removed]",
      "text/plain": [
       "<Figure size 360x360 with 1 Axes>"
      ]
     },
     "metadata": {
      "needs_background": "light"
     },
     "output_type": "display_data"
    }
   ],
   "source": [
    "sns.catplot(y = 'income', x = 'children_count', data = new_data, kind = 'strip', ax = ax)\n",
    "plt.show()"
   ]
  },
  {
   "cell_type": "code",
   "execution_count": null,
   "metadata": {
    "id": "NVA716Lw6HQy"
   },
   "outputs": [],
   "source": []
  }
 ],
 "metadata": {
  "colab": {
   "authorship_tag": "ABX9TyNuHx1DftLQpL7RyS4tXgRL",
   "mount_file_id": "1RqP96yCvlSUuc2Rxd82CvgFJ7LsHC-ku",
   "provenance": []
  },
  "kernelspec": {
   "display_name": "Python 3 [3.10]",
   "language": "python",
   "name": "python3"
  },
  "language_info": {
   "codemirror_mode": {
    "name": "ipython",
    "version": 3
   },
   "file_extension": ".py",
   "mimetype": "text/x-python",
   "name": "python",
   "nbconvert_exporter": "python",
   "pygments_lexer": "ipython3",
   "version": "3.10.2"
  }
 },
 "nbformat": 4,
 "nbformat_minor": 4
}
